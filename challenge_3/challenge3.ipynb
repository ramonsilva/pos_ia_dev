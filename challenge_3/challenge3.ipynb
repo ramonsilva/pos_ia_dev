{
  "nbformat": 4,
  "nbformat_minor": 0,
  "metadata": {
    "colab": {
      "provenance": []
    },
    "kernelspec": {
      "name": "python3",
      "display_name": "Python 3"
    },
    "language_info": {
      "name": "python"
    },
    "widgets": {
      "application/vnd.jupyter.widget-state+json": {
        "eed5623aac0b413ea0a86025f0c14f42": {
          "model_module": "@jupyter-widgets/controls",
          "model_name": "HBoxModel",
          "model_module_version": "1.5.0",
          "state": {
            "_dom_classes": [],
            "_model_module": "@jupyter-widgets/controls",
            "_model_module_version": "1.5.0",
            "_model_name": "HBoxModel",
            "_view_count": null,
            "_view_module": "@jupyter-widgets/controls",
            "_view_module_version": "1.5.0",
            "_view_name": "HBoxView",
            "box_style": "",
            "children": [
              "IPY_MODEL_586b5f3b0e8c496cb58ebf85a403fe3f",
              "IPY_MODEL_3d576672a3074f9288d593ed34b847b5",
              "IPY_MODEL_d68ccec5d6e04bfdb02e7621d7d1db16"
            ],
            "layout": "IPY_MODEL_505ae9c7432445b18d4095fe7318424a"
          }
        },
        "586b5f3b0e8c496cb58ebf85a403fe3f": {
          "model_module": "@jupyter-widgets/controls",
          "model_name": "HTMLModel",
          "model_module_version": "1.5.0",
          "state": {
            "_dom_classes": [],
            "_model_module": "@jupyter-widgets/controls",
            "_model_module_version": "1.5.0",
            "_model_name": "HTMLModel",
            "_view_count": null,
            "_view_module": "@jupyter-widgets/controls",
            "_view_module_version": "1.5.0",
            "_view_name": "HTMLView",
            "description": "",
            "description_tooltip": null,
            "layout": "IPY_MODEL_06463099115a4798acf5fb67bd7909f6",
            "placeholder": "​",
            "style": "IPY_MODEL_2a9e2bbd6b604b83979848ab043bd552",
            "value": "Carregando dados: "
          }
        },
        "3d576672a3074f9288d593ed34b847b5": {
          "model_module": "@jupyter-widgets/controls",
          "model_name": "FloatProgressModel",
          "model_module_version": "1.5.0",
          "state": {
            "_dom_classes": [],
            "_model_module": "@jupyter-widgets/controls",
            "_model_module_version": "1.5.0",
            "_model_name": "FloatProgressModel",
            "_view_count": null,
            "_view_module": "@jupyter-widgets/controls",
            "_view_module_version": "1.5.0",
            "_view_name": "ProgressView",
            "bar_style": "success",
            "description": "",
            "description_tooltip": null,
            "layout": "IPY_MODEL_931b675b03cb4b93ab78afbe78ebef0d",
            "max": 1,
            "min": 0,
            "orientation": "horizontal",
            "style": "IPY_MODEL_c359689e33fc4954a37013d0f9c86d74",
            "value": 1
          }
        },
        "d68ccec5d6e04bfdb02e7621d7d1db16": {
          "model_module": "@jupyter-widgets/controls",
          "model_name": "HTMLModel",
          "model_module_version": "1.5.0",
          "state": {
            "_dom_classes": [],
            "_model_module": "@jupyter-widgets/controls",
            "_model_module_version": "1.5.0",
            "_model_name": "HTMLModel",
            "_view_count": null,
            "_view_module": "@jupyter-widgets/controls",
            "_view_module_version": "1.5.0",
            "_view_name": "HTMLView",
            "description": "",
            "description_tooltip": null,
            "layout": "IPY_MODEL_6f47d92690ad44a6881a28dfa9836309",
            "placeholder": "​",
            "style": "IPY_MODEL_3c633e6bf9b74416a52043ab0f9b3946",
            "value": " 29217/? [00:00&lt;00:00, 37406.30it/s]"
          }
        },
        "505ae9c7432445b18d4095fe7318424a": {
          "model_module": "@jupyter-widgets/base",
          "model_name": "LayoutModel",
          "model_module_version": "1.2.0",
          "state": {
            "_model_module": "@jupyter-widgets/base",
            "_model_module_version": "1.2.0",
            "_model_name": "LayoutModel",
            "_view_count": null,
            "_view_module": "@jupyter-widgets/base",
            "_view_module_version": "1.2.0",
            "_view_name": "LayoutView",
            "align_content": null,
            "align_items": null,
            "align_self": null,
            "border": null,
            "bottom": null,
            "display": null,
            "flex": null,
            "flex_flow": null,
            "grid_area": null,
            "grid_auto_columns": null,
            "grid_auto_flow": null,
            "grid_auto_rows": null,
            "grid_column": null,
            "grid_gap": null,
            "grid_row": null,
            "grid_template_areas": null,
            "grid_template_columns": null,
            "grid_template_rows": null,
            "height": null,
            "justify_content": null,
            "justify_items": null,
            "left": null,
            "margin": null,
            "max_height": null,
            "max_width": null,
            "min_height": null,
            "min_width": null,
            "object_fit": null,
            "object_position": null,
            "order": null,
            "overflow": null,
            "overflow_x": null,
            "overflow_y": null,
            "padding": null,
            "right": null,
            "top": null,
            "visibility": null,
            "width": null
          }
        },
        "06463099115a4798acf5fb67bd7909f6": {
          "model_module": "@jupyter-widgets/base",
          "model_name": "LayoutModel",
          "model_module_version": "1.2.0",
          "state": {
            "_model_module": "@jupyter-widgets/base",
            "_model_module_version": "1.2.0",
            "_model_name": "LayoutModel",
            "_view_count": null,
            "_view_module": "@jupyter-widgets/base",
            "_view_module_version": "1.2.0",
            "_view_name": "LayoutView",
            "align_content": null,
            "align_items": null,
            "align_self": null,
            "border": null,
            "bottom": null,
            "display": null,
            "flex": null,
            "flex_flow": null,
            "grid_area": null,
            "grid_auto_columns": null,
            "grid_auto_flow": null,
            "grid_auto_rows": null,
            "grid_column": null,
            "grid_gap": null,
            "grid_row": null,
            "grid_template_areas": null,
            "grid_template_columns": null,
            "grid_template_rows": null,
            "height": null,
            "justify_content": null,
            "justify_items": null,
            "left": null,
            "margin": null,
            "max_height": null,
            "max_width": null,
            "min_height": null,
            "min_width": null,
            "object_fit": null,
            "object_position": null,
            "order": null,
            "overflow": null,
            "overflow_x": null,
            "overflow_y": null,
            "padding": null,
            "right": null,
            "top": null,
            "visibility": null,
            "width": null
          }
        },
        "2a9e2bbd6b604b83979848ab043bd552": {
          "model_module": "@jupyter-widgets/controls",
          "model_name": "DescriptionStyleModel",
          "model_module_version": "1.5.0",
          "state": {
            "_model_module": "@jupyter-widgets/controls",
            "_model_module_version": "1.5.0",
            "_model_name": "DescriptionStyleModel",
            "_view_count": null,
            "_view_module": "@jupyter-widgets/base",
            "_view_module_version": "1.2.0",
            "_view_name": "StyleView",
            "description_width": ""
          }
        },
        "931b675b03cb4b93ab78afbe78ebef0d": {
          "model_module": "@jupyter-widgets/base",
          "model_name": "LayoutModel",
          "model_module_version": "1.2.0",
          "state": {
            "_model_module": "@jupyter-widgets/base",
            "_model_module_version": "1.2.0",
            "_model_name": "LayoutModel",
            "_view_count": null,
            "_view_module": "@jupyter-widgets/base",
            "_view_module_version": "1.2.0",
            "_view_name": "LayoutView",
            "align_content": null,
            "align_items": null,
            "align_self": null,
            "border": null,
            "bottom": null,
            "display": null,
            "flex": null,
            "flex_flow": null,
            "grid_area": null,
            "grid_auto_columns": null,
            "grid_auto_flow": null,
            "grid_auto_rows": null,
            "grid_column": null,
            "grid_gap": null,
            "grid_row": null,
            "grid_template_areas": null,
            "grid_template_columns": null,
            "grid_template_rows": null,
            "height": null,
            "justify_content": null,
            "justify_items": null,
            "left": null,
            "margin": null,
            "max_height": null,
            "max_width": null,
            "min_height": null,
            "min_width": null,
            "object_fit": null,
            "object_position": null,
            "order": null,
            "overflow": null,
            "overflow_x": null,
            "overflow_y": null,
            "padding": null,
            "right": null,
            "top": null,
            "visibility": null,
            "width": "20px"
          }
        },
        "c359689e33fc4954a37013d0f9c86d74": {
          "model_module": "@jupyter-widgets/controls",
          "model_name": "ProgressStyleModel",
          "model_module_version": "1.5.0",
          "state": {
            "_model_module": "@jupyter-widgets/controls",
            "_model_module_version": "1.5.0",
            "_model_name": "ProgressStyleModel",
            "_view_count": null,
            "_view_module": "@jupyter-widgets/base",
            "_view_module_version": "1.2.0",
            "_view_name": "StyleView",
            "bar_color": null,
            "description_width": ""
          }
        },
        "6f47d92690ad44a6881a28dfa9836309": {
          "model_module": "@jupyter-widgets/base",
          "model_name": "LayoutModel",
          "model_module_version": "1.2.0",
          "state": {
            "_model_module": "@jupyter-widgets/base",
            "_model_module_version": "1.2.0",
            "_model_name": "LayoutModel",
            "_view_count": null,
            "_view_module": "@jupyter-widgets/base",
            "_view_module_version": "1.2.0",
            "_view_name": "LayoutView",
            "align_content": null,
            "align_items": null,
            "align_self": null,
            "border": null,
            "bottom": null,
            "display": null,
            "flex": null,
            "flex_flow": null,
            "grid_area": null,
            "grid_auto_columns": null,
            "grid_auto_flow": null,
            "grid_auto_rows": null,
            "grid_column": null,
            "grid_gap": null,
            "grid_row": null,
            "grid_template_areas": null,
            "grid_template_columns": null,
            "grid_template_rows": null,
            "height": null,
            "justify_content": null,
            "justify_items": null,
            "left": null,
            "margin": null,
            "max_height": null,
            "max_width": null,
            "min_height": null,
            "min_width": null,
            "object_fit": null,
            "object_position": null,
            "order": null,
            "overflow": null,
            "overflow_x": null,
            "overflow_y": null,
            "padding": null,
            "right": null,
            "top": null,
            "visibility": null,
            "width": null
          }
        },
        "3c633e6bf9b74416a52043ab0f9b3946": {
          "model_module": "@jupyter-widgets/controls",
          "model_name": "DescriptionStyleModel",
          "model_module_version": "1.5.0",
          "state": {
            "_model_module": "@jupyter-widgets/controls",
            "_model_module_version": "1.5.0",
            "_model_name": "DescriptionStyleModel",
            "_view_count": null,
            "_view_module": "@jupyter-widgets/base",
            "_view_module_version": "1.2.0",
            "_view_name": "StyleView",
            "description_width": ""
          }
        }
      }
    }
  },
  "cells": [
    {
      "cell_type": "code",
      "execution_count": 1,
      "metadata": {
        "id": "dpU1R4vXSCL4"
      },
      "outputs": [],
      "source": [
        "import pandas as pd\n",
        "import numpy as np\n",
        "import json\n",
        "import re\n",
        "import os\n",
        "from tqdm.auto import tqdm\n",
        "import matplotlib.pyplot as plt\n",
        "import seaborn as sns\n",
        "from sklearn.model_selection import train_test_split"
      ]
    },
    {
      "cell_type": "code",
      "source": [
        "def load_json_data(file_path):\n",
        "    try:\n",
        "        data = []\n",
        "        with open(file_path, 'r', encoding='utf-8') as f:\n",
        "            for line in tqdm(f, desc=\"Carregando dados\"):\n",
        "                try:\n",
        "                    item = json.loads(line)\n",
        "                    data.append(item)\n",
        "                except json.JSONDecodeError:\n",
        "                    continue\n",
        "        return pd.DataFrame(data)\n",
        "    except Exception as e:\n",
        "        print(f\"Erro ao carregar o arquivo: {e}\")\n",
        "        return None\n",
        "\n",
        "\n",
        "print(\"Carregando o arquivo trn.json...\")\n",
        "df = load_json_data(\"trn.json\")\n",
        "\n"
      ],
      "metadata": {
        "colab": {
          "base_uri": "https://localhost:8080/",
          "height": 66,
          "referenced_widgets": [
            "eed5623aac0b413ea0a86025f0c14f42",
            "586b5f3b0e8c496cb58ebf85a403fe3f",
            "3d576672a3074f9288d593ed34b847b5",
            "d68ccec5d6e04bfdb02e7621d7d1db16",
            "505ae9c7432445b18d4095fe7318424a",
            "06463099115a4798acf5fb67bd7909f6",
            "2a9e2bbd6b604b83979848ab043bd552",
            "931b675b03cb4b93ab78afbe78ebef0d",
            "c359689e33fc4954a37013d0f9c86d74",
            "6f47d92690ad44a6881a28dfa9836309",
            "3c633e6bf9b74416a52043ab0f9b3946"
          ]
        },
        "id": "EXTcpFraSRYd",
        "outputId": "852890e3-b42f-49c6-e9eb-1280be591480"
      },
      "execution_count": 3,
      "outputs": [
        {
          "output_type": "stream",
          "name": "stdout",
          "text": [
            "Carregando o arquivo trn.json...\n"
          ]
        },
        {
          "output_type": "display_data",
          "data": {
            "text/plain": [
              "Carregando dados: 0it [00:00, ?it/s]"
            ],
            "application/vnd.jupyter.widget-view+json": {
              "version_major": 2,
              "version_minor": 0,
              "model_id": "eed5623aac0b413ea0a86025f0c14f42"
            }
          },
          "metadata": {}
        }
      ]
    },
    {
      "cell_type": "code",
      "source": [
        "print(\"\\nInformações do DataFrame:\")\n",
        "print(f\"Número de linhas: {df.shape[0]}\")\n",
        "print(f\"Número de colunas: {df.shape[1]}\")\n",
        "print(\"\\nColunas disponíveis:\")\n",
        "print(df.columns.tolist())\n",
        "\n",
        "print(\"\\nPrimeiras 5 linhas do DataFrame:\")\n",
        "print(df.head())\n",
        "\n",
        "# Verificar se as colunas necessárias existem\n",
        "required_columns = ['title', 'content']\n",
        "missing_columns = [col for col in required_columns if col not in df.columns]\n",
        "\n",
        "if missing_columns:\n",
        "    print(f\"\\nAtenção: Colunas necessárias não encontradas: {missing_columns}\")\n",
        "    # Verificar nomes de colunas semelhantes que podem ser usadas\n",
        "    for col in df.columns:\n",
        "        for req_col in missing_columns:\n",
        "            if req_col.lower() in col.lower():\n",
        "                print(f\"A coluna '{col}' pode ser usada em vez de '{req_col}'\")"
      ],
      "metadata": {
        "colab": {
          "base_uri": "https://localhost:8080/"
        },
        "id": "wQqagSu0SXml",
        "outputId": "af02459a-5368-41b6-a03b-e3b077ab21f8"
      },
      "execution_count": 6,
      "outputs": [
        {
          "output_type": "stream",
          "name": "stdout",
          "text": [
            "\n",
            "Informações do DataFrame:\n",
            "Número de linhas: 29216\n",
            "Número de colunas: 5\n",
            "\n",
            "Colunas disponíveis:\n",
            "['uid', 'title', 'content', 'target_ind', 'target_rel']\n",
            "\n",
            "Primeiras 5 linhas do DataFrame:\n",
            "          uid                                                           title  \\\n",
            "0  0000031909                                     Girls Ballet Tutu Neon Pink   \n",
            "1  0000032034                                        Adult Ballet Tutu Yellow   \n",
            "2  0000913154  The Way Things Work: An Illustrated Encyclopedia of Technology   \n",
            "3  0001360000                                                   Mog's Kittens   \n",
            "4  0001381245                                           Misty of Chincoteague   \n",
            "\n",
            "                                                                                                                                                                                                                                                                                                                                                                                                                         content  \\\n",
            "0                                                                                                                                                                                                                                                                                                                                                                          High quality 3 layer ballet tutu. 12 inches in length   \n",
            "1                                                                                                                                                                                                                                                                                                                                                                                                                                  \n",
            "2                                                                                                                                                                                                                                                                                                                                                                                                                                  \n",
            "3  Judith Kerr&#8217;s best&#8211;selling adventures of that endearing (and exasperating) cat Mog have entertained children for more than 30 years. Now, even infants and toddlers can enjoy meeting this loveable feline. These sturdy little board books&#8212;with their bright, simple pictures, easy text, and hand&#8211;friendly formats&#8212;are just the thing to delight the very young. Ages 6 months&#8211;2 years.   \n",
            "4                                                                                                                                                                                                                                                                                                                                                                                                                                  \n",
            "\n",
            "                                                                                                                                                                               target_ind  \\\n",
            "0                                                                                   [12, 13, 14, 15, 16, 17, 18, 19, 20, 21, 22, 23, 24, 25, 26, 27, 28, 29, 30, 31, 32, 33, 34, 35, 111]   \n",
            "1  [0, 1, 2, 3, 4, 5, 6, 7, 8, 9, 16, 33, 36, 37, 38, 39, 40, 41, 42, 43, 44, 45, 46, 47, 48, 49, 50, 51, 52, 53, 54, 55, 56, 57, 58, 59, 60, 61, 62, 63, 64, 65, 66, 67, 68, 69, 70, 71]   \n",
            "2                                                                                                                                                     [116, 117, 118, 119, 120, 121, 122]   \n",
            "3                                                                                                                                                               [146, 147, 148, 149, 495]   \n",
            "4                                                                                                                                                                                   [151]   \n",
            "\n",
            "                                                                                                                                                                                                                                         target_rel  \n",
            "0                                                                                                                     [1.0, 1.0, 1.0, 1.0, 1.0, 1.0, 1.0, 1.0, 1.0, 1.0, 1.0, 1.0, 1.0, 1.0, 1.0, 1.0, 1.0, 1.0, 1.0, 1.0, 1.0, 1.0, 1.0, 1.0, 1.0]  \n",
            "1  [1.0, 1.0, 1.0, 1.0, 1.0, 1.0, 1.0, 1.0, 1.0, 1.0, 1.0, 1.0, 1.0, 1.0, 1.0, 1.0, 1.0, 1.0, 1.0, 1.0, 1.0, 1.0, 1.0, 1.0, 1.0, 1.0, 1.0, 1.0, 1.0, 1.0, 1.0, 1.0, 1.0, 1.0, 1.0, 1.0, 1.0, 1.0, 1.0, 1.0, 1.0, 1.0, 1.0, 1.0, 1.0, 1.0, 1.0, 1.0]  \n",
            "2                                                                                                                                                                                                               [1.0, 1.0, 1.0, 1.0, 1.0, 1.0, 1.0]  \n",
            "3                                                                                                                                                                                                                         [1.0, 1.0, 1.0, 1.0, 1.0]  \n",
            "4                                                                                                                                                                                                                                             [1.0]  \n"
          ]
        }
      ]
    },
    {
      "cell_type": "markdown",
      "source": [],
      "metadata": {
        "id": "U5iDWZOnSkLd"
      }
    },
    {
      "cell_type": "markdown",
      "source": [
        "Verificar valores nulos"
      ],
      "metadata": {
        "id": "uHEzCpL6SkMa"
      }
    },
    {
      "cell_type": "code",
      "source": [
        "\n",
        "print(\"\\nValores nulos por coluna:\")\n",
        "print(df[required_columns].isnull().sum())"
      ],
      "metadata": {
        "colab": {
          "base_uri": "https://localhost:8080/"
        },
        "id": "qOmsZTZMSmDz",
        "outputId": "7f2898f3-6e4f-43f4-e185-3c3bb6ff2924"
      },
      "execution_count": 7,
      "outputs": [
        {
          "output_type": "stream",
          "name": "stdout",
          "text": [
            "\n",
            "Valores nulos por coluna:\n",
            "title      0\n",
            "content    0\n",
            "dtype: int64\n"
          ]
        }
      ]
    },
    {
      "cell_type": "code",
      "source": [
        "def preprocess_data(df, title_col='title', content_col='content'):\n",
        "    # Criar uma cópia para não modificar o original\n",
        "    processed_df = df.copy()\n",
        "\n",
        "    # Garantir que as colunas existam\n",
        "    if title_col not in processed_df.columns or content_col not in processed_df.columns:\n",
        "        print(f\"Erro: Colunas {title_col} e/ou {content_col} não encontradas.\")\n",
        "        return None\n",
        "\n",
        "    # Converter para string e tratar nulos\n",
        "    processed_df[title_col] = processed_df[title_col].fillna(\"\").astype(str)\n",
        "    processed_df[content_col] = processed_df[content_col].fillna(\"\").astype(str)\n",
        "\n",
        "    # Remover linhas com título ou conteúdo vazios\n",
        "    empty_count = len(processed_df[(processed_df[title_col].str.strip() == \"\") |\n",
        "                                   (processed_df[content_col].str.strip() == \"\")])\n",
        "    print(f\"Removendo {empty_count} linhas com título ou conteúdo vazios...\")\n",
        "    processed_df = processed_df[(processed_df[title_col].str.strip() != \"\") &\n",
        "                                (processed_df[content_col].str.strip() != \"\")]\n",
        "\n",
        "    # Limpeza básica\n",
        "    print(\"Limpando os dados...\")\n",
        "\n",
        "    def clean_text(text):\n",
        "        # Remove caracteres especiais indesejados e espaços extras\n",
        "        text = re.sub(r'\\s+', ' ', text)  # Espaços múltiplos\n",
        "        text = text.strip()  # Espaços no início e final\n",
        "        return text\n",
        "\n",
        "    processed_df[title_col] = processed_df[title_col].apply(clean_text)\n",
        "    processed_df[content_col] = processed_df[content_col].apply(clean_text)\n",
        "\n",
        "    # Remover duplicatas\n",
        "    duplicate_count = processed_df.duplicated(subset=[title_col, content_col]).sum()\n",
        "    print(f\"Removendo {duplicate_count} entradas duplicadas...\")\n",
        "    processed_df = processed_df.drop_duplicates(subset=[title_col, content_col])\n",
        "\n",
        "    print(f\"Pré-processamento concluído. Restaram {len(processed_df)} exemplos.\")\n",
        "    return processed_df\n",
        "\n",
        "cleaned_df = preprocess_data(df)"
      ],
      "metadata": {
        "colab": {
          "base_uri": "https://localhost:8080/"
        },
        "id": "5eUsaWotSwXV",
        "outputId": "b35d71f4-96b7-40bb-a66e-f625760e2cb7"
      },
      "execution_count": 9,
      "outputs": [
        {
          "output_type": "stream",
          "name": "stdout",
          "text": [
            "Removendo 6905 linhas com título ou conteúdo vazios...\n",
            "Limpando os dados...\n",
            "Removendo 173 entradas duplicadas...\n",
            "Pré-processamento concluído. Restaram 22138 exemplos.\n"
          ]
        }
      ]
    },
    {
      "cell_type": "code",
      "source": [
        "def prepare_prompts_for_finetuning(df, title_col='title', content_col='content'):\n",
        "    \"\"\"\n",
        "    Prepara os prompts para fine-tuning baseado no tipo de modelo.\n",
        "\n",
        "    Args:\n",
        "        df: DataFrame com os dados\n",
        "        title_col: Nome da coluna do título\n",
        "        content_col: Nome da coluna do conteúdo\n",
        "\n",
        "    Returns:\n",
        "        DataFrame com os prompts formatados\n",
        "    \"\"\"\n",
        "    prompts_df = df.copy()\n",
        "\n",
        "    prompts_df['prompt'] = \"Gere uma descrição detalhada para um produto com o título: \" + prompts_df[title_col]\n",
        "    prompts_df['completion'] = prompts_df[content_col]\n",
        "\n",
        "    return prompts_df\n",
        "\n",
        "\n",
        "# Preparar os prompts\n",
        "prompts_df = prepare_prompts_for_finetuning(cleaned_df)\n",
        "\n",
        "for i, row in prompts_df.head(3).iterrows():\n",
        "    print(\"\\n\" + \"=\" * 50)\n",
        "    print(f\"Prompt: {row['prompt']}\")\n",
        "    print(f\"Completion: {row['completion'][:100]}...\")"
      ],
      "metadata": {
        "colab": {
          "base_uri": "https://localhost:8080/"
        },
        "id": "LwdFOd43S6wz",
        "outputId": "2f47e876-978d-443a-8e94-1590b4dc2ace"
      },
      "execution_count": 11,
      "outputs": [
        {
          "output_type": "stream",
          "name": "stdout",
          "text": [
            "\n",
            "==================================================\n",
            "Prompt: Gere uma descrição detalhada para um produto com o título: Girls Ballet Tutu Neon Pink\n",
            "Completion: High quality 3 layer ballet tutu. 12 inches in length...\n",
            "\n",
            "==================================================\n",
            "Prompt: Gere uma descrição detalhada para um produto com o título: Mog's Kittens\n",
            "Completion: Judith Kerr&#8217;s best&#8211;selling adventures of that endearing (and exasperating) cat Mog have ...\n",
            "\n",
            "==================================================\n",
            "Prompt: Gere uma descrição detalhada para um produto com o título: Girls Ballet Tutu Neon Blue\n",
            "Completion: Dance tutu for girls ages 2-8 years. Perfect for dance practice, recitals and performances, costumes...\n"
          ]
        }
      ]
    },
    {
      "cell_type": "code",
      "source": [
        "def export_data_for_finetuning(df, train_ratio=0.95, output_dir='finetuning_data'):\n",
        "    \"\"\"\n",
        "    Divide os dados em treino e validação e exporta no formato necessário para fine-tuning.\n",
        "\n",
        "    Args:\n",
        "        df: DataFrame com os dados formatados\n",
        "        train_ratio: Proporção de dados para treino\n",
        "        output_dir: Diretório para salvar os arquivos\n",
        "    \"\"\"\n",
        "    # Criar diretório de saída se não existir\n",
        "    os.makedirs(output_dir, exist_ok=True)\n",
        "\n",
        "    # Dividir os dados em treino e validação\n",
        "    train_df, val_df = train_test_split(df, train_size=train_ratio, random_state=42)\n",
        "\n",
        "    print(f\"Dados divididos: {len(train_df)} exemplos para treino, {len(val_df)} exemplos para validação.\")\n",
        "\n",
        "    # Formato geral para outros modelos (prompt + completion)\n",
        "    train_path = os.path.join(output_dir, 'train_llama.jsonl')\n",
        "    val_path = os.path.join(output_dir, f'val_llama.jsonl')\n",
        "\n",
        "    columns_to_export = ['prompt', 'completion'] if 'prompt' in df.columns else df.columns\n",
        "\n",
        "    with open(train_path, 'w', encoding='utf-8') as f:\n",
        "        for _, row in train_df.iterrows():\n",
        "            export_row = {col: row[col] for col in columns_to_export}\n",
        "            f.write(json.dumps(export_row) + '\\n')\n",
        "\n",
        "    with open(val_path, 'w', encoding='utf-8') as f:\n",
        "        for _, row in val_df.iterrows():\n",
        "            export_row = {col: row[col] for col in columns_to_export}\n",
        "            f.write(json.dumps(export_row) + '\\n')\n",
        "\n",
        "    print(f\"Dados exportados para:\")\n",
        "    print(f\"- Treino: {train_path}\")\n",
        "    print(f\"- Validação: {val_path}\")\n",
        "\n",
        "    # Salvar alguns exemplos para referência rápida\n",
        "    examples_path = os.path.join(output_dir, f'examples_llama.json')\n",
        "    with open(examples_path, 'w', encoding='utf-8') as f:\n",
        "        examples = train_df.head(5).to_dict('records')\n",
        "        json.dump(examples, f, indent=2, ensure_ascii=False)\n",
        "\n",
        "    print(f\"- Exemplos: {examples_path}\")\n",
        "\n",
        "    return train_path, val_path\n",
        "\n",
        "\n",
        "# Exportar os dados\n",
        "train_path, val_path = export_data_for_finetuning(prompts_df)"
      ],
      "metadata": {
        "colab": {
          "base_uri": "https://localhost:8080/"
        },
        "id": "bnPOiK0gTEiN",
        "outputId": "9fd0fda5-0188-459a-acec-3ab36012d499"
      },
      "execution_count": 12,
      "outputs": [
        {
          "output_type": "stream",
          "name": "stdout",
          "text": [
            "Dados divididos: 21031 exemplos para treino, 1107 exemplos para validação.\n",
            "Dados exportados para:\n",
            "- Treino: finetuning_data/train_llama.jsonl\n",
            "- Validação: finetuning_data/val_llama.jsonl\n",
            "- Exemplos: finetuning_data/examples_llama.json\n"
          ]
        }
      ]
    }
  ]
}